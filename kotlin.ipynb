{
 "cells": [
  {
   "cell_type": "markdown",
   "metadata": {},
   "source": [
    "# Hello Kotlin!"
   ]
  },
  {
   "cell_type": "markdown",
   "metadata": {},
   "source": [
    "Let's explore Kotlin language with a Jupyter Notebook!"
   ]
  },
  {
   "cell_type": "markdown",
   "metadata": {},
   "source": [
    "## Comments"
   ]
  },
  {
   "cell_type": "markdown",
   "metadata": {},
   "source": [
    "Comments are useful for us when we want to explain something that our code doesn't explain itself and, mainly, when we're documenting our code."
   ]
  },
  {
   "cell_type": "markdown",
   "metadata": {},
   "source": [
    "We have 3 kinds of comments:\n",
    "- Single-line\n",
    "- Block (multiline)\n",
    "- Docs (we won't explore doc comments here, but you can know more visiting https://kotlinlang.org/docs/kotlin-doc.html .)"
   ]
  },
  {
   "cell_type": "code",
   "execution_count": 8,
   "metadata": {},
   "outputs": [],
   "source": [
    "// Single-line comment.\n",
    "\n",
    "/* Block comments\n",
    "can have\n",
    "more\n",
    "than one line\n",
    "*/"
   ]
  },
  {
   "cell_type": "markdown",
   "metadata": {},
   "source": [
    "## Printing"
   ]
  },
  {
   "cell_type": "markdown",
   "metadata": {},
   "source": [
    "There'll be times when we want to see some information, such as variable value... Then, how do we print data into the console?"
   ]
  },
  {
   "cell_type": "markdown",
   "metadata": {},
   "source": [
    "In fact, we have two functions for this...\n",
    "\n",
    "`print` and `println`\n",
    "\n",
    "These two functions will take any type of parameter and turn into a `String`.\n",
    "\n",
    "`print` will simply add the text of it's first parameter to the output console.\n",
    "\n",
    "`println` will do the same, but will add a new-line character (`\\n`) at the end of first parameter as `String`. (The \"ln\" at the end of function's name indicates it)"
   ]
  },
  {
   "cell_type": "code",
   "execution_count": 9,
   "metadata": {},
   "outputs": [
    {
     "name": "stdout",
     "output_type": "stream",
     "text": [
      "Hello World!"
     ]
    }
   ],
   "source": [
    "// They will be printed in one line, it's just like to concatenate, or \"stick\", one string to the next one.\n",
    "print(\"Hello\")\n",
    "print(\" \")\n",
    "print(\"World!\")"
   ]
  },
  {
   "cell_type": "code",
   "execution_count": 10,
   "metadata": {},
   "outputs": [
    {
     "name": "stdout",
     "output_type": "stream",
     "text": [
      "Hello world!\n",
      "How're you?\n"
     ]
    }
   ],
   "source": [
    "// \"How're you?\" will appear in a next line\n",
    "println(\"Hello world!\")\n",
    "println(\"How're you?\")"
   ]
  }
 ],
 "metadata": {
  "kernelspec": {
   "display_name": "Kotlin",
   "language": "kotlin",
   "name": "kotlin"
  },
  "language_info": {
   "codemirror_mode": "text/x-kotlin",
   "file_extension": ".kt",
   "mimetype": "text/x-kotlin",
   "name": "kotlin",
   "nbconvert_exporter": "",
   "pygments_lexer": "kotlin",
   "version": "1.8.20"
  },
  "polyglot_notebook": {
   "kernelInfo": {
    "defaultKernelName": "csharp",
    "items": [
     {
      "aliases": [],
      "name": "csharp"
     }
    ]
   }
  }
 },
 "nbformat": 4,
 "nbformat_minor": 2
}
